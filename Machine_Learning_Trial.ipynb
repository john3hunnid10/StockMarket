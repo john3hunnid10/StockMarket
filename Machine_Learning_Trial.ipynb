{
  "cells": [
    {
      "cell_type": "markdown",
      "metadata": {
        "id": "view-in-github",
        "colab_type": "text"
      },
      "source": [
        "<a href=\"https://colab.research.google.com/github/john3hunnid10/StockMarket/blob/main/Machine_Learning_Trial.ipynb\" target=\"_parent\"><img src=\"https://colab.research.google.com/assets/colab-badge.svg\" alt=\"Open In Colab\"/></a>"
      ]
    },
    {
      "cell_type": "code",
      "execution_count": 5,
      "id": "4c684df3",
      "metadata": {
        "colab": {
          "base_uri": "https://localhost:8080/"
        },
        "id": "4c684df3",
        "outputId": "df739560-8c21-4e44-d334-0a01f4481b05"
      },
      "outputs": [
        {
          "output_type": "stream",
          "name": "stdout",
          "text": [
            "[['2023-01-03' 27.07 122.5 66.879997 271.0]\n",
            " ['2023-01-04' 27.92 122.5 65.790001 271.5]\n",
            " ['2023-01-05' 27.780001 124.0 64.349998 275.0]\n",
            " ...\n",
            " ['2024-04-03' 41.650002 171.0 182.050003 425.5]\n",
            " ['2024-04-04' 40.779999 '' 183.020004 '']\n",
            " ['2024-04-05' 39.459999 '' 172.690002 '']]\n"
          ]
        }
      ],
      "source": [
        "import numpy as np\n",
        "import pandas as pd\n",
        "from sklearn.tree import DecisionTreeClassifier\n",
        "\n",
        "\n",
        "##importing the data and constructing the models\n",
        "intelDF = pd.read_csv('Intel (2023 - 08.04.2024).csv')\n",
        "msiDF = pd.read_csv('MSI (2023 - 08.04.2024).csv') #only 298x7\n",
        "amdDF = pd.read_csv('AMD (2023 - 08.04.2024).csv')\n",
        "asusDF = pd.read_csv('ASUS (2023 - 08.04.2024).csv') #only 298x7\n",
        "\n",
        "intelDates=intelDF['Date']\n",
        "msiDates=msiDF['Date']\n",
        "amdDates=amdDF['Date']\n",
        "asusDates=asusDF['Date']\n",
        "\n",
        "intelHighs=intelDF['High']\n",
        "msiHighs=msiDF['High']\n",
        "amdHighs=amdDF['High']\n",
        "asusHighs=asusDF['High']\n",
        "\n",
        "intelHDict=dict(zip(intelDates,intelHighs))\n",
        "msiHDict=dict(zip(msiDates,msiHighs))\n",
        "amdHDict=dict(zip(amdDates,amdHighs))\n",
        "asusHDict=dict(zip(asusDates,asusHighs))\n",
        "\n",
        "\n",
        "dates = sorted(set(intelDates) | set(msiDates) | set(amdDates) | set(asusDates))\n",
        "combinedHighs=np.empty((len(dates),5),dtype=object)\n",
        "combinedHighs[:,0]=dates\n",
        "\n",
        "for i, date in enumerate(dates):\n",
        "  combinedHighs[i,1]=intelHDict.get(date, '')\n",
        "  combinedHighs[i,2]=msiHDict.get(date, '')\n",
        "  combinedHighs[i,3]=amdHDict.get(date, '')\n",
        "  combinedHighs[i,4]=asusHDict.get(date, '')\n",
        "print(combinedHighs)"
      ]
    }
  ],
  "metadata": {
    "kernelspec": {
      "display_name": "Python 3 (ipykernel)",
      "language": "python",
      "name": "python3"
    },
    "language_info": {
      "codemirror_mode": {
        "name": "ipython",
        "version": 3
      },
      "file_extension": ".py",
      "mimetype": "text/x-python",
      "name": "python",
      "nbconvert_exporter": "python",
      "pygments_lexer": "ipython3",
      "version": "3.11.7"
    },
    "colab": {
      "provenance": [],
      "include_colab_link": true
    }
  },
  "nbformat": 4,
  "nbformat_minor": 5
}