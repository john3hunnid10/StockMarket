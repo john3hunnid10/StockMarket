{
  "cells": [
    {
      "cell_type": "markdown",
      "metadata": {
        "id": "view-in-github",
        "colab_type": "text"
      },
      "source": [
        "<a href=\"https://colab.research.google.com/github/john3hunnid10/StockMarket/blob/main/Machine_Learning_Trial.ipynb\" target=\"_parent\"><img src=\"https://colab.research.google.com/assets/colab-badge.svg\" alt=\"Open In Colab\"/></a>"
      ]
    },
    {
      "cell_type": "code",
      "execution_count": null,
      "id": "4c684df3",
      "metadata": {
        "id": "4c684df3",
        "outputId": "b117767b-ec66-47dd-f71e-fc338be0cf81"
      },
      "outputs": [
        {
          "name": "stdout",
          "output_type": "stream",
          "text": [
            "[['2023-01-03' 0 0 0 0]\n",
            " ['2023-01-04' 0 0 0 0]\n",
            " ['2023-01-05' 0 0 0 0]\n",
            " ...\n",
            " ['2024-04-03' 0 0 0 0]\n",
            " ['2024-04-04' 0 0 0 0]\n",
            " ['2024-04-05' 0 0 0 0]]\n"
          ]
        }
      ],
      "source": [
        "import numpy as np\n",
        "import pandas as pd\n",
        "from sklearn.tree import DecisionTreeClassifier\n",
        "\n",
        "\n",
        "##importing the data and constructing the models\n",
        "intelDF = pd.read_csv('Intel (2023 - 08.04.2024).csv')\n",
        "msiDF = pd.read_csv('MSI (2023 - 08.04.2024).csv') #only 298x7\n",
        "amdDF = pd.read_csv('AMD (2023 - 08.04.2024).csv')\n",
        "asusDF = pd.read_csv('ASUS (2023 - 08.04.2024).csv') #only 298x7\n",
        "\n",
        "intelDates=intelDF['Dates']\n",
        "msiDates=msiDF['Dates']\n",
        "amdDates=amdDF['Dates']\n",
        "asusDates=asusDF['Dates']\n",
        "\n",
        "intelHighs=intelDF['High']\n",
        "msiHighs=msiDF['High']\n",
        "amdHighs=amdDF['High']\n",
        "asusHighs=asusDF['High']\n",
        "\n",
        "intelHDict=dict(zip(intelDates,intelHighs))\n",
        "msiHDict=dict(zip(msiDates,msiHighs))\n",
        "amdHDict=dict(zip(amdDates,amdHighs))\n",
        "asusHDict=dict(zip(asusDates,asusHighs))\n",
        "\n",
        "combinedHighs=np.empty((316,5),dtype=object)\n",
        "\n",
        "combinedHighs[:,0]=dates\n",
        "\n",
        "\n",
        "\n",
        "\n",
        "\n",
        "columns=['date','intel','msi','amd','asus']\n",
        "\n",
        "combinedHighs[:,0]=dates\n",
        "print(combinedHighs)\n",
        "for i in range(316):\n",
        "\n",
        "#code to use input of date to index in array\n",
        "#months=['January','February','March','April','May','June','July','August','September','October','November','December']\n",
        "#daysto1st=[]"
      ]
    },
    {
      "cell_type": "code",
      "execution_count": null,
      "id": "329eade8",
      "metadata": {
        "id": "329eade8"
      },
      "outputs": [],
      "source": []
    },
    {
      "cell_type": "code",
      "execution_count": null,
      "id": "f8ebac30",
      "metadata": {
        "id": "f8ebac30"
      },
      "outputs": [],
      "source": []
    },
    {
      "cell_type": "code",
      "execution_count": null,
      "id": "824a5ed6",
      "metadata": {
        "id": "824a5ed6"
      },
      "outputs": [],
      "source": []
    }
  ],
  "metadata": {
    "kernelspec": {
      "display_name": "Python 3 (ipykernel)",
      "language": "python",
      "name": "python3"
    },
    "language_info": {
      "codemirror_mode": {
        "name": "ipython",
        "version": 3
      },
      "file_extension": ".py",
      "mimetype": "text/x-python",
      "name": "python",
      "nbconvert_exporter": "python",
      "pygments_lexer": "ipython3",
      "version": "3.11.7"
    },
    "colab": {
      "provenance": [],
      "include_colab_link": true
    }
  },
  "nbformat": 4,
  "nbformat_minor": 5
}