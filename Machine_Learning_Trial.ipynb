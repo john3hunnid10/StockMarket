{
  "cells": [
    {
      "cell_type": "markdown",
      "metadata": {
        "id": "view-in-github",
        "colab_type": "text"
      },
      "source": [
        "<a href=\"https://colab.research.google.com/github/john3hunnid10/StockMarket/blob/main/Machine_Learning_Trial.ipynb\" target=\"_parent\"><img src=\"https://colab.research.google.com/assets/colab-badge.svg\" alt=\"Open In Colab\"/></a>"
      ]
    },
    {
      "cell_type": "code",
      "execution_count": 22,
      "id": "4c684df3",
      "metadata": {
        "id": "4c684df3"
      },
      "outputs": [],
      "source": [
        "from IPython.display import display, HTML\n",
        "import numpy as np\n",
        "import pandas as pd\n",
        "from sklearn.tree import DecisionTreeClassifier\n",
        "from sklearn.tree import DecisionTreeRegressor\n",
        "\n",
        "\n",
        "##importing the data and constructing the csv files for use\n",
        "intelDF = pd.read_csv('Intel (2023 - 08.04.2024).csv')\n",
        "msiDF = pd.read_csv('MSI (2023 - 08.04.2024).csv') #only 298x7\n",
        "amdDF = pd.read_csv('AMD (2023 - 08.04.2024).csv')\n",
        "asusDF = pd.read_csv('ASUS (2023 - 08.04.2024).csv') #only 298x7\n",
        "##Columns of CSV are: Date, Open, High, Low, Close, Adj Close, Volume\n",
        "intelDates=intelDF['Date']\n",
        "msiDates=msiDF['Date']\n",
        "amdDates=amdDF['Date']\n",
        "asusDates=asusDF['Date']\n",
        "dates = sorted(set(intelDates) | set(msiDates) | set(amdDates) | set(asusDates))\n",
        "columnLabels=np.array((['Dates', 'Intel', 'MSI', 'AMD', 'ASUS']),dtype=object)\n",
        "columnLbaels=columnLabels[np.newaxis,:]\n",
        "\n"
      ]
    },
    {
      "cell_type": "code",
      "source": [
        "intelHighs=intelDF['High']\n",
        "msiHighs=msiDF['High']\n",
        "amdHighs=amdDF['High']\n",
        "asusHighs=asusDF['High']\n",
        "\n",
        "intelHDict=dict(zip(intelDates,intelHighs))\n",
        "msiHDict=dict(zip(msiDates,msiHighs))\n",
        "amdHDict=dict(zip(amdDates,amdHighs))\n",
        "asusHDict=dict(zip(asusDates,asusHighs))\n",
        "\n",
        "\n",
        "\n",
        "combinedHighs=np.empty((len(dates),5),dtype=object)\n",
        "combinedHighs[:,0]=dates\n",
        "\n",
        "for i, date in enumerate(dates):\n",
        "  combinedHighs[i,1]=intelHDict.get(date, '')\n",
        "  combinedHighs[i,2]=msiHDict.get(date, '')\n",
        "  combinedHighs[i,3]=amdHDict.get(date, '')\n",
        "  combinedHighs[i,4]=asusHDict.get(date, '')\n",
        "\n",
        "\n",
        "labeledHighs=np.vstack((columnLabels,combinedHighs))\n",
        "\n",
        "np.savetxt('stockHighs.csv',labeledHighs, delimiter=',',fmt='%s')"
      ],
      "metadata": {
        "id": "F7vpYg4xe0sJ"
      },
      "id": "F7vpYg4xe0sJ",
      "execution_count": null,
      "outputs": []
    },
    {
      "cell_type": "code",
      "source": [
        "##Columns of CSV are: Date, Open, High, Low, Close, Adj Close, Volume\n",
        "\n",
        "intelOpens=intelDF['Open']\n",
        "msiOpens=msiDF['Open']\n",
        "amdOpens=amdDF['Open']\n",
        "asusOpens=amdDF['Open']\n",
        "\n",
        "intelODict=dict(zip(intelDates,intelOpens))\n",
        "msiODict=dict(zip(msiDates,msiOpens))\n",
        "amdODict=dict(zip(amdDates,amdOpens))\n",
        "asusODict=dict(zip(asusDates,asusOpens))\n",
        "\n",
        "\n",
        "combinedOpens=np.empty((len(dates),5),dtype=object)\n",
        "combinedOpens[:,0]=dates\n",
        "\n",
        "for i, date in enumerate(dates):\n",
        "  combinedOpens[i,1]=intelODict.get(date, '')\n",
        "  combinedOpens[i,2]=msiODict.get(date, '')\n",
        "  combinedOpens[i,3]=amdODict.get(date, '')\n",
        "  combinedOpens[i,4]=asusODict.get(date, '')\n",
        "\n",
        "labeledOpens=np.vstack((columnLabels,combinedOpens))\n",
        "\n",
        "np.savetxt('stockOpens.csv',labeledOpens, delimiter=',',fmt='%s')"
      ],
      "metadata": {
        "id": "XvdvnKiQJpdP"
      },
      "id": "XvdvnKiQJpdP",
      "execution_count": null,
      "outputs": []
    },
    {
      "cell_type": "code",
      "source": [
        "##Columns of CSV are: Date, Open, High, Low, Close, Adj Close, Volume\n",
        "\n",
        "intelLows=intelDF['Low']\n",
        "msiLows=msiDF['Low']\n",
        "amdLows=amdDF['Low']\n",
        "asusLows=amdDF['Low']\n",
        "\n",
        "intelLDict=dict(zip(intelDates,intelLows))\n",
        "msiLDict=dict(zip(msiDates,msiLows))\n",
        "amdLDict=dict(zip(amdDates,amdLows))\n",
        "asusLDict=dict(zip(asusDates,asusLows))\n",
        "\n",
        "\n",
        "combinedLows=np.empty((len(dates),5),dtype=object)\n",
        "combinedLows[:,0]=dates\n",
        "\n",
        "for i, date in enumerate(dates):\n",
        "  combinedLows[i,1]=intelLDict.get(date, '')\n",
        "  combinedLows[i,2]=msiLDict.get(date, '')\n",
        "  combinedLows[i,3]=amdLDict.get(date, '')\n",
        "  combinedLows[i,4]=asusLDict.get(date, '')\n",
        "\n",
        "labeledLows=np.vstack((columnLabels,combinedLows))\n",
        "\n",
        "np.savetxt('stockLows.csv',labeledLows, delimiter=',',fmt='%s')"
      ],
      "metadata": {
        "id": "wONwuPpFIaJz"
      },
      "id": "wONwuPpFIaJz",
      "execution_count": null,
      "outputs": []
    },
    {
      "cell_type": "code",
      "source": [
        "##Columns of CSV are: Date, Open, High, Low, Close, Adj Close, Volume\n",
        "\n",
        "intelCloses=intelDF['Close']\n",
        "msiCloses=msiDF['Close']\n",
        "amdCloses=amdDF['Close']\n",
        "asusCloses=amdDF['Close']\n",
        "\n",
        "intelCDict=dict(zip(intelDates,intelCloses))\n",
        "msiCDict=dict(zip(msiDates,msiCloses))\n",
        "amdCDict=dict(zip(amdDates,amdCloses))\n",
        "asusCDict=dict(zip(asusDates,asusCloses))\n",
        "\n",
        "\n",
        "combinedCloses=np.empty((len(dates),5),dtype=object)\n",
        "combinedCloses[:,0]=dates\n",
        "\n",
        "for i, date in enumerate(dates):\n",
        "  combinedCloses[i,1]=intelCDict.get(date, '')\n",
        "  combinedCloses[i,2]=msiCDict.get(date, '')\n",
        "  combinedCloses[i,3]=amdCDict.get(date, '')\n",
        "  combinedCloses[i,4]=asusCDict.get(date, '')\n",
        "\n",
        "labeledCloses=np.vstack((columnLabels,combinedCloses))\n",
        "\n",
        "np.savetxt('stockCloses.csv',labeledCloses, delimiter=',',fmt='%s')"
      ],
      "metadata": {
        "id": "cc3K9KXSARkw"
      },
      "id": "cc3K9KXSARkw",
      "execution_count": null,
      "outputs": []
    },
    {
      "cell_type": "code",
      "source": [
        "##Columns of CSV are: Date, Open, High, Low, Close, Adj Close, Volume\n",
        "\n",
        "intelACloses=intelDF['Adj Close']\n",
        "msiACloses=msiDF['Adj Close']\n",
        "amdACloses=amdDF['Adj Close']\n",
        "asusACloses=amdDF['Adj Close']\n",
        "\n",
        "intelACDict=dict(zip(intelDates,intelACloses))\n",
        "msiACDict=dict(zip(msiDates,msiACloses))\n",
        "amdACDict=dict(zip(amdDates,amdACloses))\n",
        "asusACDict=dict(zip(asusDates,asusACloses))\n",
        "\n",
        "\n",
        "combinedACloses=np.empty((len(dates),5),dtype=object)\n",
        "combinedACloses[:,0]=dates\n",
        "\n",
        "for i, date in enumerate(dates):\n",
        "  combinedACloses[i,1]=intelACDict.get(date, '')\n",
        "  combinedACloses[i,2]=msiACDict.get(date, '')\n",
        "  combinedACloses[i,3]=amdACDict.get(date, '')\n",
        "  combinedACloses[i,4]=asusACDict.get(date, '')\n",
        "\n",
        "labeledACloses=np.vstack((columnLabels,combinedACloses))\n",
        "\n",
        "np.savetxt('stockAdjCloses.csv',labeledACloses, delimiter=',',fmt='%s')"
      ],
      "metadata": {
        "id": "lBY0iZ8ZBo6C"
      },
      "id": "lBY0iZ8ZBo6C",
      "execution_count": null,
      "outputs": []
    },
    {
      "cell_type": "code",
      "source": [
        "##Columns of CSV are: Date, Open, High, Low, Close, Adj Close, Volume\n",
        "\n",
        "intelVolumes=intelDF['Volume']\n",
        "msiVolumes=msiDF['Volume']\n",
        "amdVolumes=amdDF['Volume']\n",
        "asusVolumes=amdDF['Volume']\n",
        "\n",
        "intelVDict=dict(zip(intelDates,intelVolumes))\n",
        "msiVDict=dict(zip(msiDates,msiVolumes))\n",
        "amdVDict=dict(zip(amdDates,amdVolumes))\n",
        "asusVDict=dict(zip(asusDates,asusVolumes))\n",
        "\n",
        "\n",
        "combinedVolumes=np.empty((len(dates),5),dtype=object)\n",
        "combinedVolumes[:,0]=dates\n",
        "\n",
        "for i, date in enumerate(dates):\n",
        "  combinedVolumes[i,1]=intelVDict.get(date, '')\n",
        "  combinedVolumes[i,2]=msiVDict.get(date, '')\n",
        "  combinedVolumes[i,3]=amdVDict.get(date, '')\n",
        "  combinedVolumes[i,4]=asusVDict.get(date, '')\n",
        "\n",
        "labeledVolumes=np.vstack((columnLabels,combinedVolumes))\n",
        "\n",
        "np.savetxt('stockVolumes.csv',labeledVolumes, delimiter=',',fmt='%s')"
      ],
      "metadata": {
        "id": "8CQiU0C1CX0H"
      },
      "id": "8CQiU0C1CX0H",
      "execution_count": null,
      "outputs": []
    },
    {
      "cell_type": "code",
      "source": [
        "highDF= pd.read_csv('stockHighs.csv')\n",
        "lowDF=pd.read_csv('stockLows.csv')\n",
        "openDF=pd.read_csv('stockOpens.csv')\n",
        "closeDF=pd.read_csv('stockCloses.csv')\n",
        "AcloseDF=pd.read_csv('stockAdjCloses.csv')\n",
        "volumeDF=pd.read_csv('stockVolumes.csv')\n",
        "companies=['','Intel', 'MSI', 'AMD', 'ASUS'] #company 1 is intel....\n",
        "#highXYCols: days since 1-03-23,company,high value\n",
        "highXY=[]\n",
        "lowXY=[]\n",
        "openXY=[]\n",
        "closeXY=[]\n",
        "AcloseXY=[]\n",
        "volumeXY=[]\n",
        "for i in range(len(dates)):\n",
        "  for j in range(1,5):\n",
        "    Hval=highDF.loc[j,companies[j]]\n",
        "    if(Hval!=''):\n",
        "      highXY.append([i,j,Hval])\n",
        "    Lval=lowDF.loc[j,companies[j]]\n",
        "    if(Lval!=''):\n",
        "      lowXY.append([i,j,Lval])\n",
        "    Opval=openDF.loc[j,companies[j]]\n",
        "    if(Opval!=''):\n",
        "      openXY.append([i,j,Opval])\n",
        "    Cval=closeDF.loc[j,companies[j]]\n",
        "    if(Cval!=''):\n",
        "      closeXY.append([i,j,Cval])\n",
        "    ACloseval=AcloseDF.loc[j,companies[j]]\n",
        "    if(ACloseval!=''):\n",
        "      AcloseXY.append([i,j,ACloseval])\n",
        "    Volumeval=volumeDF.loc[j,companies[j]]\n",
        "    if(Volumeval!=''):\n",
        "      volumeXY.append([i,j,Volumeval])\n",
        "dfLabel=['Days since 1/3/23','Company','Value']\n",
        "dfLabel=np.array(dfLabel)\n",
        "dfLabel=dfLabel[np.newaxis,:]\n",
        "highXY=np.vstack((dfLabel,highXY))\n",
        "highXY=np.array(highXY)\n",
        "np.savetxt('highXY.csv',highXY, delimiter=',',fmt='%s')\n",
        "lowXY=np.vstack((dfLabel,lowXY))\n",
        "lowXY=np.array(lowXY)\n",
        "np.savetxt('lowXY.csv',lowXY, delimiter=',',fmt='%s')\n",
        "openXY=np.vstack((dfLabel,openXY))\n",
        "openXY=np.array(openXY)\n",
        "np.savetxt('openXY.csv',openXY, delimiter=',',fmt='%s')\n",
        "closeXY=np.vstack((dfLabel,closeXY))\n",
        "closeXY=np.array(closeXY)\n",
        "np.savetxt('closeXY.csv',closeXY, delimiter=',',fmt='%s')\n",
        "AcloseXY=np.vstack((dfLabel,AcloseXY))\n",
        "AcloseXY=np.array(AcloseXY)\n",
        "np.savetxt('AcloseXY.csv',AcloseXY, delimiter=',',fmt='%s')\n",
        "volumeXY=np.vstack((dfLabel,volumeXY))\n",
        "volumeXY=np.array(volumeXY)\n",
        "np.savetxt('volumeXY.csv',volumeXY, delimiter=',',fmt='%s')\n",
        "\n"
      ],
      "metadata": {
        "id": "aU4XYrdBDvvP"
      },
      "id": "aU4XYrdBDvvP",
      "execution_count": 19,
      "outputs": []
    },
    {
      "cell_type": "code",
      "source": [
        "highDF= pd.read_csv('highXY.csv')\n",
        "lowDF=pd.read_csv('lowXY.csv')\n",
        "openDF=pd.read_csv('openXY.csv')\n",
        "closeDF=pd.read_csv('closeXY.csv')\n",
        "AcloseDF=pd.read_csv('AcloseXY.csv')\n",
        "volumeDF=pd.read_csv('volumeXY.csv')\n",
        "\n",
        "highX=highDF.drop(columns=['Value'])\n",
        "lowX=lowDF.drop(columns=['Value'])\n",
        "openX=openDF.drop(columns=['Value'])\n",
        "closeX=closeDF.drop(columns=['Value'])\n",
        "AcloseX=AcloseDF.drop(columns=['Value'])\n",
        "volumeX=volumeDF.drop(columns=['Value'])\n",
        "\n",
        "\n",
        "highY=highDF['Value']\n",
        "lowY=lowDF['Value']\n",
        "openY=openDF['Value']\n",
        "closeY=closeDF['Value']\n",
        "AcloseY=AcloseDF['Value']\n",
        "volumeY=volumeDF['Value']\n",
        "\n",
        "\n",
        "\n",
        "\n",
        "Hmodel=DecisionTreeRegressor()\n",
        "Lmodel=DecisionTreeRegressor()\n",
        "Omodel=DecisionTreeRegressor()\n",
        "Cmodel=DecisionTreeRegressor()\n",
        "ACmodel=DecisionTreeRegressor()\n",
        "Vmodel=DecisionTreeRegressor()\n",
        "\n",
        "\n",
        "Hmodel.fit(highX,highY)\n",
        "Lmodel.fit(lowX,lowY)\n",
        "Omodel.fit(openX,openY)\n",
        "Cmodel.fit(closeX,closeY)\n",
        "ACmodel.fit(AcloseX,AcloseY)\n",
        "Vmodel.fit(volumeX,volumeY)\n"
      ],
      "metadata": {
        "id": "KylYAQdbh4pf",
        "colab": {
          "base_uri": "https://localhost:8080/",
          "height": 75
        },
        "outputId": "e7a35e7c-d488-4fbd-ff40-7c32e58cbf28"
      },
      "id": "KylYAQdbh4pf",
      "execution_count": 24,
      "outputs": [
        {
          "output_type": "execute_result",
          "data": {
            "text/plain": [
              "DecisionTreeRegressor()"
            ],
            "text/html": [
              "<style>#sk-container-id-2 {color: black;background-color: white;}#sk-container-id-2 pre{padding: 0;}#sk-container-id-2 div.sk-toggleable {background-color: white;}#sk-container-id-2 label.sk-toggleable__label {cursor: pointer;display: block;width: 100%;margin-bottom: 0;padding: 0.3em;box-sizing: border-box;text-align: center;}#sk-container-id-2 label.sk-toggleable__label-arrow:before {content: \"▸\";float: left;margin-right: 0.25em;color: #696969;}#sk-container-id-2 label.sk-toggleable__label-arrow:hover:before {color: black;}#sk-container-id-2 div.sk-estimator:hover label.sk-toggleable__label-arrow:before {color: black;}#sk-container-id-2 div.sk-toggleable__content {max-height: 0;max-width: 0;overflow: hidden;text-align: left;background-color: #f0f8ff;}#sk-container-id-2 div.sk-toggleable__content pre {margin: 0.2em;color: black;border-radius: 0.25em;background-color: #f0f8ff;}#sk-container-id-2 input.sk-toggleable__control:checked~div.sk-toggleable__content {max-height: 200px;max-width: 100%;overflow: auto;}#sk-container-id-2 input.sk-toggleable__control:checked~label.sk-toggleable__label-arrow:before {content: \"▾\";}#sk-container-id-2 div.sk-estimator input.sk-toggleable__control:checked~label.sk-toggleable__label {background-color: #d4ebff;}#sk-container-id-2 div.sk-label input.sk-toggleable__control:checked~label.sk-toggleable__label {background-color: #d4ebff;}#sk-container-id-2 input.sk-hidden--visually {border: 0;clip: rect(1px 1px 1px 1px);clip: rect(1px, 1px, 1px, 1px);height: 1px;margin: -1px;overflow: hidden;padding: 0;position: absolute;width: 1px;}#sk-container-id-2 div.sk-estimator {font-family: monospace;background-color: #f0f8ff;border: 1px dotted black;border-radius: 0.25em;box-sizing: border-box;margin-bottom: 0.5em;}#sk-container-id-2 div.sk-estimator:hover {background-color: #d4ebff;}#sk-container-id-2 div.sk-parallel-item::after {content: \"\";width: 100%;border-bottom: 1px solid gray;flex-grow: 1;}#sk-container-id-2 div.sk-label:hover label.sk-toggleable__label {background-color: #d4ebff;}#sk-container-id-2 div.sk-serial::before {content: \"\";position: absolute;border-left: 1px solid gray;box-sizing: border-box;top: 0;bottom: 0;left: 50%;z-index: 0;}#sk-container-id-2 div.sk-serial {display: flex;flex-direction: column;align-items: center;background-color: white;padding-right: 0.2em;padding-left: 0.2em;position: relative;}#sk-container-id-2 div.sk-item {position: relative;z-index: 1;}#sk-container-id-2 div.sk-parallel {display: flex;align-items: stretch;justify-content: center;background-color: white;position: relative;}#sk-container-id-2 div.sk-item::before, #sk-container-id-2 div.sk-parallel-item::before {content: \"\";position: absolute;border-left: 1px solid gray;box-sizing: border-box;top: 0;bottom: 0;left: 50%;z-index: -1;}#sk-container-id-2 div.sk-parallel-item {display: flex;flex-direction: column;z-index: 1;position: relative;background-color: white;}#sk-container-id-2 div.sk-parallel-item:first-child::after {align-self: flex-end;width: 50%;}#sk-container-id-2 div.sk-parallel-item:last-child::after {align-self: flex-start;width: 50%;}#sk-container-id-2 div.sk-parallel-item:only-child::after {width: 0;}#sk-container-id-2 div.sk-dashed-wrapped {border: 1px dashed gray;margin: 0 0.4em 0.5em 0.4em;box-sizing: border-box;padding-bottom: 0.4em;background-color: white;}#sk-container-id-2 div.sk-label label {font-family: monospace;font-weight: bold;display: inline-block;line-height: 1.2em;}#sk-container-id-2 div.sk-label-container {text-align: center;}#sk-container-id-2 div.sk-container {/* jupyter's `normalize.less` sets `[hidden] { display: none; }` but bootstrap.min.css set `[hidden] { display: none !important; }` so we also need the `!important` here to be able to override the default hidden behavior on the sphinx rendered scikit-learn.org. See: https://github.com/scikit-learn/scikit-learn/issues/21755 */display: inline-block !important;position: relative;}#sk-container-id-2 div.sk-text-repr-fallback {display: none;}</style><div id=\"sk-container-id-2\" class=\"sk-top-container\"><div class=\"sk-text-repr-fallback\"><pre>DecisionTreeRegressor()</pre><b>In a Jupyter environment, please rerun this cell to show the HTML representation or trust the notebook. <br />On GitHub, the HTML representation is unable to render, please try loading this page with nbviewer.org.</b></div><div class=\"sk-container\" hidden><div class=\"sk-item\"><div class=\"sk-estimator sk-toggleable\"><input class=\"sk-toggleable__control sk-hidden--visually\" id=\"sk-estimator-id-2\" type=\"checkbox\" checked><label for=\"sk-estimator-id-2\" class=\"sk-toggleable__label sk-toggleable__label-arrow\">DecisionTreeRegressor</label><div class=\"sk-toggleable__content\"><pre>DecisionTreeRegressor()</pre></div></div></div></div></div>"
            ]
          },
          "metadata": {},
          "execution_count": 24
        }
      ]
    }
  ],
  "metadata": {
    "kernelspec": {
      "display_name": "Python 3 (ipykernel)",
      "language": "python",
      "name": "python3"
    },
    "language_info": {
      "codemirror_mode": {
        "name": "ipython",
        "version": 3
      },
      "file_extension": ".py",
      "mimetype": "text/x-python",
      "name": "python",
      "nbconvert_exporter": "python",
      "pygments_lexer": "ipython3",
      "version": "3.11.7"
    },
    "colab": {
      "provenance": [],
      "include_colab_link": true
    }
  },
  "nbformat": 4,
  "nbformat_minor": 5
}